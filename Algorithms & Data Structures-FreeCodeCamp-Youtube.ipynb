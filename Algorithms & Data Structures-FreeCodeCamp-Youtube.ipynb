{
 "cells": [
  {
   "cell_type": "code",
   "execution_count": 1,
   "id": "387804d0",
   "metadata": {},
   "outputs": [
    {
     "name": "stdout",
     "output_type": "stream",
     "text": [
      "Hello World !!!\n"
     ]
    }
   ],
   "source": [
    "print('Hello World !!!')"
   ]
  },
  {
   "cell_type": "code",
   "execution_count": 33,
   "id": "65f6c1e0",
   "metadata": {},
   "outputs": [
    {
     "name": "stdout",
     "output_type": "stream",
     "text": [
      "num is: 1\n",
      "num is: 2\n",
      "num is: 3\n",
      "num is: 4\n",
      "outside of the loop\n"
     ]
    }
   ],
   "source": [
    "numbers = {1, 2,3,4,5}\n",
    "for num in numbers:\n",
    "    if num == 5:\n",
    "        break\n",
    "    print (\"num is: {}\".format(num))\n",
    "else:\n",
    "    print (\" In side Else Block \")\n",
    "print(\"outside of the loop\" )"
   ]
  },
  {
   "cell_type": "code",
   "execution_count": null,
   "id": "fa70208a",
   "metadata": {},
   "outputs": [],
   "source": []
  },
  {
   "cell_type": "code",
   "execution_count": 38,
   "id": "70605f4f",
   "metadata": {},
   "outputs": [
    {
     "name": "stdout",
     "output_type": "stream",
     "text": [
      "Enter an number:23\n",
      "23 is a prime\n"
     ]
    }
   ],
   "source": [
    "# Is this number a Prime mumber ? \n",
    "num = int(input(\"Enter an number:\" ))\n",
    "\n",
    "ifdivisible = False;\n",
    "\n",
    "i = 2\n",
    "while i < num:\n",
    "    if num % i == 0:\n",
    "        ifdivisible = True;\n",
    "        print(\"{} is divisible by {} so \".format(num,i))\n",
    "        break\n",
    "    i += 1\n",
    "if ifdivisible:\n",
    "    print(\"{} is NOT a prime\".format(num))\n",
    "else:\n",
    "    print(\"{} is a prime\".format(num))\n",
    "  \n"
   ]
  },
  {
   "cell_type": "code",
   "execution_count": 15,
   "id": "fa2124ed",
   "metadata": {},
   "outputs": [
    {
     "name": "stdout",
     "output_type": "stream",
     "text": [
      "The target number is found at Index position :  4\n"
     ]
    }
   ],
   "source": [
    "# Linear Search #\n",
    "\n",
    "def linear_search(list, target):\n",
    "    \"\"\"\n",
    "    Returns the positon of the target, else return None\n",
    "    \"\"\"\n",
    "    for i in range(0, len(list)):\n",
    "        if list[i] == target:\n",
    "            return i\n",
    "    return None \n",
    "\n",
    "def verify(index):\n",
    "    if index is not None:\n",
    "        print(\"The target number is found at Index position : \", index)\n",
    "    else:\n",
    "        print(\"The target number is Not found.\")\n",
    "\n",
    "numbers = [1,2,3,4,5,6,7,8,9,10] \n",
    "\n",
    "result = linear_search(numbers, 5)\n",
    "verify(result)\n",
    "    "
   ]
  },
  {
   "cell_type": "code",
   "execution_count": 37,
   "id": "1cf8f445",
   "metadata": {},
   "outputs": [
    {
     "name": "stdout",
     "output_type": "stream",
     "text": [
      "[1, 2, 3, 4, 5, 6, 7, 8, 9, 10, 11, 12, 13, 14, 15, 16, 17, 18, 19, 20]\n",
      "The target is found at position:  7\n",
      "The target is found at position:  4\n"
     ]
    }
   ],
   "source": [
    "## Binary Search ##\n",
    "\n",
    "def binary_search(list,target):\n",
    "    first = 0\n",
    "    last = len(list) - 1\n",
    "    \n",
    "    while first <= last:\n",
    "        midpoint = (first + last) // 2\n",
    "        \n",
    "        if list[midpoint] ==  target:\n",
    "            return midpoint\n",
    "        elif list[midpoint] < target:\n",
    "            first = midpoint + 1\n",
    "        else:\n",
    "            last = midpoint - 1\n",
    "    return None\n",
    "\n",
    "def verify(index):\n",
    "    if index is not None:\n",
    "        print(\"The target is found at position: \", index)\n",
    "    else:\n",
    "        print(\"The target is Not found \")\n",
    "\n",
    "numbers = [ i for i in range (1,21)]\n",
    "print(numbers)\n",
    "\n",
    "result = binary_search(numbers,8)\n",
    "verify(result)\n",
    "\n",
    "result = binary_search(numbers,5)\n",
    "verify(result)            \n",
    "        "
   ]
  },
  {
   "cell_type": "code",
   "execution_count": 56,
   "id": "b80790b3",
   "metadata": {},
   "outputs": [
    {
     "name": "stdout",
     "output_type": "stream",
     "text": [
      "The number is found:  True\n",
      "The number is found:  False\n"
     ]
    }
   ],
   "source": [
    "# Recursive Binary Search #\n",
    "\n",
    "def recursive_binary_search(list, target):\n",
    "    if len(list) == 0:\n",
    "        return False\n",
    "    else:\n",
    "        midpoint = (len(list)) // 2\n",
    "        \n",
    "        if list[midpoint] == target:\n",
    "            return True\n",
    "        else:\n",
    "            if list[midpoint] < target:\n",
    "                return recursive_binary_search(list[midpoint+1:], target)\n",
    "            else:\n",
    "                return recursive_binary_search(list[:midpoint],target)\n",
    "            \n",
    "def verify(result):\n",
    "    print(\"The number is found: \", result)\n",
    "         \n",
    "numbers = [1,2,3,4,5,6,7,8,9,10] \n",
    "#numbers = [ i for i in range (1,11)]\n",
    "#print(numbers)\n",
    "\n",
    "result = recursive_binary_search(numbers,8)\n",
    "verify(result) \n",
    "\n",
    "result = recursive_binary_search(numbers, 11)\n",
    "verify(result) "
   ]
  },
  {
   "cell_type": "code",
   "execution_count": 2,
   "id": "89fa1f3e",
   "metadata": {},
   "outputs": [
    {
     "data": {
      "text/plain": [
       "1"
      ]
     },
     "execution_count": 2,
     "metadata": {},
     "output_type": "execute_result"
    }
   ],
   "source": [
    "## Arrays ##\n",
    "\n",
    "new_list = [1,2,3]\n",
    "result = new_list[0]\n",
    "\n",
    "new_list\n",
    "result\n"
   ]
  },
  {
   "cell_type": "code",
   "execution_count": 3,
   "id": "ac4fc138",
   "metadata": {},
   "outputs": [
    {
     "name": "stdout",
     "output_type": "stream",
     "text": [
      "True\n"
     ]
    }
   ],
   "source": [
    "if 1 in new_list: print(True)\n",
    "    \n",
    "for n in new_list:\n",
    "    if n == 1;\n",
    "    print(True)\n",
    "    \n",
    "    break\n",
    "    \n"
   ]
  },
  {
   "cell_type": "code",
   "execution_count": 5,
   "id": "4d009948",
   "metadata": {},
   "outputs": [
    {
     "name": "stdout",
     "output_type": "stream",
     "text": [
      "[1, 2, 3, 4, 5, 6, 7, 4]\n"
     ]
    }
   ],
   "source": [
    "numbers = [1,2,3,4,5,6,7]\n",
    "numbers.append(4)\n",
    "print(numbers)"
   ]
  },
  {
   "cell_type": "code",
   "execution_count": 30,
   "id": "996f9a54",
   "metadata": {},
   "outputs": [
    {
     "ename": "IndentationError",
     "evalue": "expected an indented block (<ipython-input-30-6077f18fa569>, line 32)",
     "output_type": "error",
     "traceback": [
      "\u001b[1;36m  File \u001b[1;32m\"<ipython-input-30-6077f18fa569>\"\u001b[1;36m, line \u001b[1;32m32\u001b[0m\n\u001b[1;33m    def __repr__(self):        # representation of the object using repr function\u001b[0m\n\u001b[1;37m    ^\u001b[0m\n\u001b[1;31mIndentationError\u001b[0m\u001b[1;31m:\u001b[0m expected an indented block\n"
     ]
    }
   ],
   "source": [
    "## Linked List ##\n",
    "## Create a Linked List, check if they are empty & check the size. \n",
    "\n",
    "class Node:      # This is class to represent a node\n",
    "    \"\"\"\n",
    "    An object for storing a single node of a linked list.\n",
    "    Model's two attributes  -  data and the link to the next node in the list.  \n",
    "    \"\"\"\n",
    "    data = None  \n",
    "    next_node = None\n",
    "    \n",
    "    def __init__(self, data):\n",
    "        self.data = data\n",
    "\n",
    "    def __repr__(self):        # representation of the object using repr function\n",
    "        return \"<Node data: %s >\" % self.data\n",
    "\n",
    "class LinkedList:\n",
    "    \n",
    "    \"\"\"\n",
    "    Singley linked list \n",
    "    \"\"\"\n",
    "    \n",
    "    def __init__(self):\n",
    "        self.head = None\n",
    "    \n",
    "    def is_empty(self):\n",
    "        return self.head == None\n",
    "    \n",
    "    def size(self):  \n",
    "        \n",
    "    def __repr__(self):        # representation of the object using repr function\n",
    "        #return \"<Node data: %s >\" % self.data\n",
    "        \"\"\"\n",
    "        return the number of nodes in the list\n",
    "        It takes Time O(n) -> Linear time \n",
    "        \"\"\"\n",
    "        \n",
    "        current = self.head\n",
    "        count = 0\n",
    "        \n",
    "        while current:     # Same as writing ' while current != None: ' \n",
    "            count += 1     # count = count + 1 \n",
    "            current = current.next_node   # as we reach tail, next_none = none and current = None & While will terminate\n",
    "        \n",
    "        return count       # so will reach every node to determine size, O(n) - Linear Time\n",
    "    \n",
    "    def add(self,data):  # add will accept some data and add to linked list\n",
    "        \"\"\"\n",
    "        Adds new node containing data at head of the list\n",
    "        Takes O(1) time\n",
    "        \"\"\"\n",
    "        new_node = Node(data)\n",
    "        new_node.next_node = self.head   # If there is no node at head, then new_node will be the head of the node.\n",
    "        self.head = new_node     # insert is a constant time operation O(1)\n",
    "        \n",
    "        \n",
    "        \n"
   ]
  },
  {
   "cell_type": "code",
   "execution_count": 26,
   "id": "96ac5010",
   "metadata": {},
   "outputs": [
    {
     "data": {
      "text/plain": [
       "1"
      ]
     },
     "execution_count": 26,
     "metadata": {},
     "output_type": "execute_result"
    }
   ],
   "source": [
    "l = LinkedList()\n",
    "N1 = Node(10)\n",
    "l.head = N1\n",
    "l.size()"
   ]
  },
  {
   "cell_type": "code",
   "execution_count": 27,
   "id": "ef1f93ef",
   "metadata": {},
   "outputs": [
    {
     "data": {
      "text/plain": [
       "<__main__.LinkedList at 0x232895d61c0>"
      ]
     },
     "execution_count": 27,
     "metadata": {},
     "output_type": "execute_result"
    }
   ],
   "source": [
    "l = LinkedList()\n",
    "l.add(1)\n",
    "l\n",
    "l.size()\n",
    "l.add(2)\n",
    "l.add(3)\n",
    "l.add(4)\n",
    "l.size()\n",
    "l"
   ]
  },
  {
   "cell_type": "code",
   "execution_count": null,
   "id": "e6812531",
   "metadata": {},
   "outputs": [],
   "source": []
  },
  {
   "cell_type": "code",
   "execution_count": null,
   "id": "1ef08c81",
   "metadata": {},
   "outputs": [],
   "source": [
    "N1\n",
    "\n",
    "N2 = Node(20)\n",
    "N1.next_node = N2\n",
    "N1.next_node"
   ]
  },
  {
   "cell_type": "code",
   "execution_count": null,
   "id": "b7253f7e",
   "metadata": {},
   "outputs": [],
   "source": [
    "#  Adding Data to the linked List #\n",
    "# There are 3 ways to add data to a linked list\n"
   ]
  },
  {
   "cell_type": "code",
   "execution_count": null,
   "id": "1577452d",
   "metadata": {},
   "outputs": [],
   "source": []
  },
  {
   "cell_type": "code",
   "execution_count": null,
   "id": "405b1c22",
   "metadata": {},
   "outputs": [],
   "source": []
  },
  {
   "cell_type": "code",
   "execution_count": null,
   "id": "d0eef63c",
   "metadata": {},
   "outputs": [],
   "source": []
  },
  {
   "cell_type": "code",
   "execution_count": null,
   "id": "41f556c4",
   "metadata": {},
   "outputs": [],
   "source": []
  },
  {
   "cell_type": "code",
   "execution_count": null,
   "id": "595715e5",
   "metadata": {},
   "outputs": [],
   "source": []
  },
  {
   "cell_type": "code",
   "execution_count": null,
   "id": "d29ec5c2",
   "metadata": {},
   "outputs": [],
   "source": []
  },
  {
   "cell_type": "code",
   "execution_count": null,
   "id": "ddf35227",
   "metadata": {},
   "outputs": [],
   "source": []
  },
  {
   "cell_type": "code",
   "execution_count": null,
   "id": "3ac2796f",
   "metadata": {},
   "outputs": [],
   "source": []
  },
  {
   "cell_type": "code",
   "execution_count": null,
   "id": "7349e5aa",
   "metadata": {},
   "outputs": [],
   "source": []
  },
  {
   "cell_type": "code",
   "execution_count": null,
   "id": "12a7ce1f",
   "metadata": {},
   "outputs": [],
   "source": []
  },
  {
   "cell_type": "code",
   "execution_count": null,
   "id": "8bba5845",
   "metadata": {},
   "outputs": [],
   "source": []
  },
  {
   "cell_type": "code",
   "execution_count": null,
   "id": "c3f0e06d",
   "metadata": {},
   "outputs": [],
   "source": [
    "//'/;[pl,klo0]'"
   ]
  }
 ],
 "metadata": {
  "kernelspec": {
   "display_name": "Python 3",
   "language": "python",
   "name": "python3"
  },
  "language_info": {
   "codemirror_mode": {
    "name": "ipython",
    "version": 3
   },
   "file_extension": ".py",
   "mimetype": "text/x-python",
   "name": "python",
   "nbconvert_exporter": "python",
   "pygments_lexer": "ipython3",
   "version": "3.8.8"
  }
 },
 "nbformat": 4,
 "nbformat_minor": 5
}
