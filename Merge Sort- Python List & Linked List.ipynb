{
 "cells": [
  {
   "cell_type": "code",
   "execution_count": 7,
   "id": "e664f076",
   "metadata": {},
   "outputs": [
    {
     "name": "stdout",
     "output_type": "stream",
     "text": [
      "[5, 9, 10, 11, 25, 29, 32, 54, 58, 81, 99]\n",
      "True\n",
      "False\n"
     ]
    }
   ],
   "source": [
    "## Merge Sort on Python List ##\n",
    "\n",
    "def merge_sort(list):\n",
    "     \n",
    "    \"\"\"\n",
    "        Sorts a lists in ascending order\n",
    "        Returns a new sorted list\n",
    "        Divide: Find the midpoint of the list and divide into sublists\n",
    "        Conuer: Recursively sort the sublists created in previous step\n",
    "        Combine: Merge the sorted sublists created in previous step\n",
    "    \n",
    "        Takes Oveall O(n log n) - Quasilinear \n",
    "    \"\"\"        \n",
    "    if len(list) <= 1:   # Base case: If list has zero or one elements then there is nothing to sort.\n",
    "        return list      # So willl return the same list\n",
    "    \n",
    "    left_half, right_half = split(list)\n",
    "    left = merge_sort(left_half)\n",
    "    right = merge_sort(right_half)\n",
    "    \n",
    "    return merge(left,right)\n",
    "\n",
    "def split(list):\n",
    "    \"\"\"\n",
    "    Divide the unsorted list at midpoint into sublists\n",
    "    Returns two sublists - left and right\n",
    "    Takes O(log n) time\n",
    "    Below slicing operation is not constant time operation, however is a O(k); k is the sliced size\n",
    "    \n",
    "    Takes O(log n) time\n",
    "    \"\"\"\n",
    "    mid = len(list) // 2\n",
    "    left = list[:mid]\n",
    "    right = list[mid:]\n",
    "    \n",
    "    return left, right\n",
    "\n",
    "def merge(left, right):\n",
    "    \"\"\" \n",
    "        Merge two lists (arrays), sorting them in the process \n",
    "        Retruns a new merged list\n",
    "        Takes an Overall O(n) time\n",
    "    \"\"\"\n",
    "        \n",
    "    l = []\n",
    "    i = 0\n",
    "    j = 0\n",
    "    \n",
    "    while i < len(left) and j < len(right):\n",
    "        if left[i] < right [j]:\n",
    "            l.append(left[i])\n",
    "            i += 1\n",
    "        else:\n",
    "            l.append(right[j])\n",
    "            j += 1\n",
    "\n",
    "    while i < len(left):    #  When left list is longer as in earlier we teminated as j reached max first \n",
    "        l.append(left[i])\n",
    "        i += 1\n",
    "    while j < len(right):   #  When left list is Shorter than rightnnnnyyy as in earlier we teminated as j reached max first\n",
    "        l.append(right[j])\n",
    "        j +=1\n",
    "    return l\n",
    "    \n",
    "def verify_sorted(list): \n",
    "    n = len(list)\n",
    "    \n",
    "    if n == 0 or n == 1:\n",
    "        return True\n",
    "    return list[0] < list[1] and verify_sorted(list[1:])\n",
    "\n",
    "    \n",
    "    \n",
    "alist = [54, 25, 99, 10, 11, 5, 9, 58, 32,  29, 81]\n",
    "l = merge_sort(alist)\n",
    "print(l)\n",
    "print(verify_sorted(l))\n",
    "print(verify_sorted(alist))"
   ]
  },
  {
   "cell_type": "code",
   "execution_count": 14,
   "id": "03e47964",
   "metadata": {},
   "outputs": [
    {
     "ename": "ModuleNotFoundError",
     "evalue": "No module named 'Linear_Binary_Search_and_Singly_Linked_List'",
     "output_type": "error",
     "traceback": [
      "\u001b[1;31m---------------------------------------------------------------------------\u001b[0m",
      "\u001b[1;31mModuleNotFoundError\u001b[0m                       Traceback (most recent call last)",
      "\u001b[1;32m<ipython-input-14-eb063015cfec>\u001b[0m in \u001b[0;36m<module>\u001b[1;34m\u001b[0m\n\u001b[0;32m      1\u001b[0m \u001b[1;31m## Merge Sort on Linked List ##\u001b[0m\u001b[1;33m\u001b[0m\u001b[1;33m\u001b[0m\u001b[1;33m\u001b[0m\u001b[0m\n\u001b[0;32m      2\u001b[0m \u001b[1;33m\u001b[0m\u001b[0m\n\u001b[1;32m----> 3\u001b[1;33m \u001b[1;32mfrom\u001b[0m \u001b[0mLinear_Binary_Search_and_Singly_Linked_List\u001b[0m \u001b[1;32mimport\u001b[0m \u001b[0mLinkedList\u001b[0m\u001b[1;33m\u001b[0m\u001b[1;33m\u001b[0m\u001b[0m\n\u001b[0m\u001b[0;32m      4\u001b[0m \u001b[1;33m\u001b[0m\u001b[0m\n\u001b[0;32m      5\u001b[0m \u001b[0ml\u001b[0m \u001b[1;33m=\u001b[0m \u001b[0mLinkedList\u001b[0m\u001b[1;33m(\u001b[0m\u001b[1;33m)\u001b[0m\u001b[1;33m\u001b[0m\u001b[1;33m\u001b[0m\u001b[0m\n",
      "\u001b[1;31mModuleNotFoundError\u001b[0m: No module named 'Linear_Binary_Search_and_Singly_Linked_List'"
     ]
    }
   ],
   "source": [
    "## Merge Sort on Linked List ##\n",
    "\n",
    "from Linear_Binary_Search_and_Singly_Linked_List import LinkedList\n",
    "\n",
    "l = LinkedList()\n",
    "l.add(1)\n",
    "print(l)\n"
   ]
  },
  {
   "cell_type": "code",
   "execution_count": null,
   "id": "d9729149",
   "metadata": {},
   "outputs": [],
   "source": []
  },
  {
   "cell_type": "code",
   "execution_count": null,
   "id": "10858c2d",
   "metadata": {},
   "outputs": [],
   "source": []
  },
  {
   "cell_type": "code",
   "execution_count": null,
   "id": "29e16cea",
   "metadata": {},
   "outputs": [],
   "source": []
  },
  {
   "cell_type": "code",
   "execution_count": null,
   "id": "e291095d",
   "metadata": {},
   "outputs": [],
   "source": []
  }
 ],
 "metadata": {
  "kernelspec": {
   "display_name": "Python 3",
   "language": "python",
   "name": "python3"
  },
  "language_info": {
   "codemirror_mode": {
    "name": "ipython",
    "version": 3
   },
   "file_extension": ".py",
   "mimetype": "text/x-python",
   "name": "python",
   "nbconvert_exporter": "python",
   "pygments_lexer": "ipython3",
   "version": "3.8.8"
  }
 },
 "nbformat": 4,
 "nbformat_minor": 5
}
